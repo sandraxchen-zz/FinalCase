{
 "cells": [
  {
   "cell_type": "code",
   "execution_count": 1,
   "metadata": {},
   "outputs": [],
   "source": [
    "import matplotlib.pyplot as plt\n",
    "import pandas as pd\n",
    "import numpy as np"
   ]
  },
  {
   "cell_type": "markdown",
   "metadata": {},
   "source": [
    "## Subscribers"
   ]
  },
  {
   "cell_type": "code",
   "execution_count": 2,
   "metadata": {},
   "outputs": [
    {
     "data": {
      "text/html": [
       "<div>\n",
       "<style scoped>\n",
       "    .dataframe tbody tr th:only-of-type {\n",
       "        vertical-align: middle;\n",
       "    }\n",
       "\n",
       "    .dataframe tbody tr th {\n",
       "        vertical-align: top;\n",
       "    }\n",
       "\n",
       "    .dataframe thead th {\n",
       "        text-align: right;\n",
       "    }\n",
       "</style>\n",
       "<table border=\"1\" class=\"dataframe\">\n",
       "  <thead>\n",
       "    <tr style=\"text-align: right;\">\n",
       "      <th></th>\n",
       "      <th>subid</th>\n",
       "      <th>package_type</th>\n",
       "      <th>num_weekly_services_utilized</th>\n",
       "      <th>preferred_genre</th>\n",
       "      <th>intended_use</th>\n",
       "      <th>weekly_consumption_hour</th>\n",
       "      <th>num_ideal_streaming_services</th>\n",
       "      <th>retarget_TF</th>\n",
       "      <th>age</th>\n",
       "      <th>male_TF</th>\n",
       "      <th>...</th>\n",
       "      <th>creation_until_cancel_days</th>\n",
       "      <th>cancel_before_trial_end</th>\n",
       "      <th>trial_end_date</th>\n",
       "      <th>initial_credit_card_declined</th>\n",
       "      <th>revenue_net</th>\n",
       "      <th>join_fee</th>\n",
       "      <th>language</th>\n",
       "      <th>paid_TF</th>\n",
       "      <th>refund_after_trial_TF</th>\n",
       "      <th>payment_type</th>\n",
       "    </tr>\n",
       "  </thead>\n",
       "  <tbody>\n",
       "    <tr>\n",
       "      <th>162502</th>\n",
       "      <td>21724479</td>\n",
       "      <td>economy</td>\n",
       "      <td>NaN</td>\n",
       "      <td>comedy</td>\n",
       "      <td>access to exclusive content</td>\n",
       "      <td>NaN</td>\n",
       "      <td>NaN</td>\n",
       "      <td>False</td>\n",
       "      <td>NaN</td>\n",
       "      <td>False</td>\n",
       "      <td>...</td>\n",
       "      <td>NaN</td>\n",
       "      <td>True</td>\n",
       "      <td>2020-02-08</td>\n",
       "      <td>False</td>\n",
       "      <td>NaN</td>\n",
       "      <td>NaN</td>\n",
       "      <td>ar</td>\n",
       "      <td>True</td>\n",
       "      <td>False</td>\n",
       "      <td>Standard Charter</td>\n",
       "    </tr>\n",
       "    <tr>\n",
       "      <th>380374</th>\n",
       "      <td>23383224</td>\n",
       "      <td>base</td>\n",
       "      <td>NaN</td>\n",
       "      <td>comedy</td>\n",
       "      <td>access to exclusive content</td>\n",
       "      <td>22.951579</td>\n",
       "      <td>NaN</td>\n",
       "      <td>False</td>\n",
       "      <td>70.0</td>\n",
       "      <td>False</td>\n",
       "      <td>...</td>\n",
       "      <td>0.0</td>\n",
       "      <td>False</td>\n",
       "      <td>2020-03-16</td>\n",
       "      <td>False</td>\n",
       "      <td>0.0</td>\n",
       "      <td>0.3303</td>\n",
       "      <td>ar</td>\n",
       "      <td>False</td>\n",
       "      <td>False</td>\n",
       "      <td>NaN</td>\n",
       "    </tr>\n",
       "    <tr>\n",
       "      <th>496617</th>\n",
       "      <td>26844789</td>\n",
       "      <td>enhanced</td>\n",
       "      <td>3.362885</td>\n",
       "      <td>regional</td>\n",
       "      <td>replace OTT</td>\n",
       "      <td>36.001186</td>\n",
       "      <td>1.951776</td>\n",
       "      <td>False</td>\n",
       "      <td>25.0</td>\n",
       "      <td>True</td>\n",
       "      <td>...</td>\n",
       "      <td>1.0</td>\n",
       "      <td>False</td>\n",
       "      <td>2019-12-22</td>\n",
       "      <td>False</td>\n",
       "      <td>0.0</td>\n",
       "      <td>0.1101</td>\n",
       "      <td>ar</td>\n",
       "      <td>False</td>\n",
       "      <td>False</td>\n",
       "      <td>NaN</td>\n",
       "    </tr>\n",
       "    <tr>\n",
       "      <th>356799</th>\n",
       "      <td>29417030</td>\n",
       "      <td>base</td>\n",
       "      <td>NaN</td>\n",
       "      <td>drama</td>\n",
       "      <td>replace OTT</td>\n",
       "      <td>20.051667</td>\n",
       "      <td>NaN</td>\n",
       "      <td>False</td>\n",
       "      <td>30.0</td>\n",
       "      <td>False</td>\n",
       "      <td>...</td>\n",
       "      <td>0.0</td>\n",
       "      <td>False</td>\n",
       "      <td>2020-02-11</td>\n",
       "      <td>False</td>\n",
       "      <td>0.0</td>\n",
       "      <td>0.0367</td>\n",
       "      <td>ar</td>\n",
       "      <td>False</td>\n",
       "      <td>False</td>\n",
       "      <td>NaN</td>\n",
       "    </tr>\n",
       "    <tr>\n",
       "      <th>681701</th>\n",
       "      <td>26723159</td>\n",
       "      <td>base</td>\n",
       "      <td>3.731089</td>\n",
       "      <td>comedy</td>\n",
       "      <td>replace OTT</td>\n",
       "      <td>22.951579</td>\n",
       "      <td>2.506384</td>\n",
       "      <td>False</td>\n",
       "      <td>28.0</td>\n",
       "      <td>False</td>\n",
       "      <td>...</td>\n",
       "      <td>9.0</td>\n",
       "      <td>False</td>\n",
       "      <td>2019-10-20</td>\n",
       "      <td>False</td>\n",
       "      <td>0.0</td>\n",
       "      <td>0.0367</td>\n",
       "      <td>ar</td>\n",
       "      <td>False</td>\n",
       "      <td>False</td>\n",
       "      <td>NaN</td>\n",
       "    </tr>\n",
       "  </tbody>\n",
       "</table>\n",
       "<p>5 rows × 29 columns</p>\n",
       "</div>"
      ],
      "text/plain": [
       "           subid package_type  num_weekly_services_utilized preferred_genre  \\\n",
       "162502  21724479      economy                           NaN          comedy   \n",
       "380374  23383224         base                           NaN          comedy   \n",
       "496617  26844789     enhanced                      3.362885        regional   \n",
       "356799  29417030         base                           NaN           drama   \n",
       "681701  26723159         base                      3.731089          comedy   \n",
       "\n",
       "                       intended_use  weekly_consumption_hour  \\\n",
       "162502  access to exclusive content                      NaN   \n",
       "380374  access to exclusive content                22.951579   \n",
       "496617                  replace OTT                36.001186   \n",
       "356799                  replace OTT                20.051667   \n",
       "681701                  replace OTT                22.951579   \n",
       "\n",
       "        num_ideal_streaming_services  retarget_TF   age male_TF  ...  \\\n",
       "162502                           NaN        False   NaN   False  ...   \n",
       "380374                           NaN        False  70.0   False  ...   \n",
       "496617                      1.951776        False  25.0    True  ...   \n",
       "356799                           NaN        False  30.0   False  ...   \n",
       "681701                      2.506384        False  28.0   False  ...   \n",
       "\n",
       "       creation_until_cancel_days cancel_before_trial_end trial_end_date  \\\n",
       "162502                        NaN                    True     2020-02-08   \n",
       "380374                        0.0                   False     2020-03-16   \n",
       "496617                        1.0                   False     2019-12-22   \n",
       "356799                        0.0                   False     2020-02-11   \n",
       "681701                        9.0                   False     2019-10-20   \n",
       "\n",
       "       initial_credit_card_declined  revenue_net join_fee  language  paid_TF  \\\n",
       "162502                        False          NaN      NaN        ar     True   \n",
       "380374                        False          0.0   0.3303        ar    False   \n",
       "496617                        False          0.0   0.1101        ar    False   \n",
       "356799                        False          0.0   0.0367        ar    False   \n",
       "681701                        False          0.0   0.0367        ar    False   \n",
       "\n",
       "       refund_after_trial_TF      payment_type  \n",
       "162502                 False  Standard Charter  \n",
       "380374                 False               NaN  \n",
       "496617                 False               NaN  \n",
       "356799                 False               NaN  \n",
       "681701                 False               NaN  \n",
       "\n",
       "[5 rows x 29 columns]"
      ]
     },
     "execution_count": 2,
     "metadata": {},
     "output_type": "execute_result"
    }
   ],
   "source": [
    "subscribers = pd.read_pickle('data/subscribers')\n",
    "\n",
    "subscribers.head()"
   ]
  },
  {
   "cell_type": "code",
   "execution_count": 116,
   "metadata": {},
   "outputs": [],
   "source": [
    "subscribers_columns = ['subid', 'retarget_TF', 'monthly_price', 'discount_price',\n",
    "                      'creation_until_cancel_days', 'cancel_before_trial_end', 'revenue_net', 'join_fee', 'paid_TF', 'refund_after_trial_TF']"
   ]
  },
  {
   "cell_type": "code",
   "execution_count": 8,
   "metadata": {},
   "outputs": [
    {
     "data": {
      "text/plain": [
       "subid                                0\n",
       "package_type                     35574\n",
       "num_weekly_services_utilized    110450\n",
       "preferred_genre                  36326\n",
       "intended_use                      3549\n",
       "weekly_consumption_hour          37930\n",
       "num_ideal_streaming_services    112170\n",
       "retarget_TF                          0\n",
       "age                              35169\n",
       "male_TF                            269\n",
       "country                              0\n",
       "attribution_technical                0\n",
       "attribution_survey                2644\n",
       "op_sys                           13375\n",
       "months_per_bill_period               0\n",
       "plan_type                            0\n",
       "monthly_price                        0\n",
       "discount_price                       0\n",
       "account_creation_date                0\n",
       "creation_until_cancel_days       75860\n",
       "cancel_before_trial_end              0\n",
       "trial_end_date                       0\n",
       "initial_credit_card_declined         0\n",
       "revenue_net                      34904\n",
       "join_fee                         34904\n",
       "language                             0\n",
       "paid_TF                              0\n",
       "refund_after_trial_TF                0\n",
       "payment_type                    135578\n",
       "dtype: int64"
      ]
     },
     "execution_count": 8,
     "metadata": {},
     "output_type": "execute_result"
    }
   ],
   "source": [
    "#nas\n",
    "\n",
    "subscribers.isna().sum()"
   ]
  },
  {
   "cell_type": "code",
   "execution_count": 5,
   "metadata": {},
   "outputs": [
    {
     "data": {
      "text/plain": [
       "(227628, 29)"
      ]
     },
     "execution_count": 5,
     "metadata": {},
     "output_type": "execute_result"
    }
   ],
   "source": [
    "subscribers.shape"
   ]
  },
  {
   "cell_type": "code",
   "execution_count": 36,
   "metadata": {},
   "outputs": [
    {
     "data": {
      "text/plain": [
       "facebook                   80251\n",
       "email                      25690\n",
       "search                     25306\n",
       "organic                    22013\n",
       "brand sem intent google    18524\n",
       "google_organic             10691\n",
       "affiliate                   9894\n",
       "email_blast                 7277\n",
       "pinterest                   6065\n",
       "referral                    5170\n",
       "facebook_organic            3272\n",
       "discovery                   2571\n",
       "brand sem intent bing       2231\n",
       "other                       1786\n",
       "display                     1407\n",
       "bing                        1146\n",
       "internal                    1122\n",
       "podcast                      985\n",
       "youtube                      913\n",
       "bing_organic                 369\n",
       "vod                          297\n",
       "ott                          158\n",
       "direct_mail                  139\n",
       "quora                        100\n",
       "samsung                       86\n",
       "criteo                        44\n",
       "appstore                      44\n",
       "pinterest_organic             30\n",
       "influencer                    21\n",
       "playstore                     12\n",
       "twitter                        5\n",
       "content_greatist               5\n",
       "tv                             4\n",
       "Name: attribution_technical, dtype: int64"
      ]
     },
     "execution_count": 36,
     "metadata": {},
     "output_type": "execute_result"
    }
   ],
   "source": [
    "subscribers['attribution_technical'].value_counts()\n",
    "# this is probably last interaction"
   ]
  },
  {
   "cell_type": "code",
   "execution_count": 37,
   "metadata": {},
   "outputs": [
    {
     "data": {
      "text/plain": [
       "facebook            119126\n",
       "tv                   39904\n",
       "referral             20882\n",
       "search                8492\n",
       "pinterest             7856\n",
       "other                 6496\n",
       "public_radio          6219\n",
       "social_organic        3869\n",
       "youtube               3108\n",
       "podcast               2995\n",
       "affiliate             1962\n",
       "ott                   1443\n",
       "sirius xm             1122\n",
       "facebook_organic       765\n",
       "direct_mail            408\n",
       "amfm_radio             337\n",
       "Name: attribution_survey, dtype: int64"
      ]
     },
     "execution_count": 37,
     "metadata": {},
     "output_type": "execute_result"
    }
   ],
   "source": [
    "subscribers['attribution_survey'].value_counts()\n",
    "# tv comes up here because you can't track tv"
   ]
  },
  {
   "cell_type": "markdown",
   "metadata": {},
   "source": [
    "## Engagement"
   ]
  },
  {
   "cell_type": "code",
   "execution_count": 6,
   "metadata": {},
   "outputs": [
    {
     "data": {
      "text/html": [
       "<div>\n",
       "<style scoped>\n",
       "    .dataframe tbody tr th:only-of-type {\n",
       "        vertical-align: middle;\n",
       "    }\n",
       "\n",
       "    .dataframe tbody tr th {\n",
       "        vertical-align: top;\n",
       "    }\n",
       "\n",
       "    .dataframe thead th {\n",
       "        text-align: right;\n",
       "    }\n",
       "</style>\n",
       "<table border=\"1\" class=\"dataframe\">\n",
       "  <thead>\n",
       "    <tr style=\"text-align: right;\">\n",
       "      <th></th>\n",
       "      <th>subid</th>\n",
       "      <th>date</th>\n",
       "      <th>app_opens</th>\n",
       "      <th>cust_service_mssgs</th>\n",
       "      <th>num_videos_completed</th>\n",
       "      <th>num_videos_more_than_30_seconds</th>\n",
       "      <th>num_videos_rated</th>\n",
       "      <th>num_series_started</th>\n",
       "      <th>payment_period</th>\n",
       "    </tr>\n",
       "  </thead>\n",
       "  <tbody>\n",
       "    <tr>\n",
       "      <th>1</th>\n",
       "      <td>22349235</td>\n",
       "      <td>2019-07-01</td>\n",
       "      <td>1.0</td>\n",
       "      <td>1.0</td>\n",
       "      <td>0.0</td>\n",
       "      <td>6.0</td>\n",
       "      <td>0.0</td>\n",
       "      <td>0.0</td>\n",
       "      <td>0.0</td>\n",
       "    </tr>\n",
       "    <tr>\n",
       "      <th>2</th>\n",
       "      <td>22349235</td>\n",
       "      <td>2019-07-02</td>\n",
       "      <td>1.0</td>\n",
       "      <td>0.0</td>\n",
       "      <td>0.0</td>\n",
       "      <td>5.0</td>\n",
       "      <td>0.0</td>\n",
       "      <td>0.0</td>\n",
       "      <td>0.0</td>\n",
       "    </tr>\n",
       "    <tr>\n",
       "      <th>3</th>\n",
       "      <td>22349235</td>\n",
       "      <td>2019-07-03</td>\n",
       "      <td>0.0</td>\n",
       "      <td>1.0</td>\n",
       "      <td>0.0</td>\n",
       "      <td>0.0</td>\n",
       "      <td>0.0</td>\n",
       "      <td>0.0</td>\n",
       "      <td>0.0</td>\n",
       "    </tr>\n",
       "    <tr>\n",
       "      <th>50</th>\n",
       "      <td>20848497</td>\n",
       "      <td>2019-07-02</td>\n",
       "      <td>1.0</td>\n",
       "      <td>0.0</td>\n",
       "      <td>7.0</td>\n",
       "      <td>7.0</td>\n",
       "      <td>0.0</td>\n",
       "      <td>0.0</td>\n",
       "      <td>0.0</td>\n",
       "    </tr>\n",
       "    <tr>\n",
       "      <th>51</th>\n",
       "      <td>22680106</td>\n",
       "      <td>2019-07-02</td>\n",
       "      <td>2.0</td>\n",
       "      <td>1.0</td>\n",
       "      <td>7.0</td>\n",
       "      <td>7.0</td>\n",
       "      <td>0.0</td>\n",
       "      <td>1.0</td>\n",
       "      <td>0.0</td>\n",
       "    </tr>\n",
       "  </tbody>\n",
       "</table>\n",
       "</div>"
      ],
      "text/plain": [
       "       subid       date  app_opens  cust_service_mssgs  num_videos_completed  \\\n",
       "1   22349235 2019-07-01        1.0                 1.0                   0.0   \n",
       "2   22349235 2019-07-02        1.0                 0.0                   0.0   \n",
       "3   22349235 2019-07-03        0.0                 1.0                   0.0   \n",
       "50  20848497 2019-07-02        1.0                 0.0                   7.0   \n",
       "51  22680106 2019-07-02        2.0                 1.0                   7.0   \n",
       "\n",
       "    num_videos_more_than_30_seconds  num_videos_rated  num_series_started  \\\n",
       "1                               6.0               0.0                 0.0   \n",
       "2                               5.0               0.0                 0.0   \n",
       "3                               0.0               0.0                 0.0   \n",
       "50                              7.0               0.0                 0.0   \n",
       "51                              7.0               0.0                 1.0   \n",
       "\n",
       "    payment_period  \n",
       "1              0.0  \n",
       "2              0.0  \n",
       "3              0.0  \n",
       "50             0.0  \n",
       "51             0.0  "
      ]
     },
     "execution_count": 6,
     "metadata": {},
     "output_type": "execute_result"
    }
   ],
   "source": [
    "engagement = pd.read_pickle('data/engagement')\n",
    "\n",
    "engagement.head()"
   ]
  },
  {
   "cell_type": "code",
   "execution_count": 72,
   "metadata": {},
   "outputs": [
    {
     "data": {
      "text/plain": [
       "(2585724, 9)"
      ]
     },
     "execution_count": 72,
     "metadata": {},
     "output_type": "execute_result"
    }
   ],
   "source": [
    "engagement.shape"
   ]
  },
  {
   "cell_type": "code",
   "execution_count": 77,
   "metadata": {},
   "outputs": [
    {
     "data": {
      "text/plain": [
       "135019"
      ]
     },
     "execution_count": 77,
     "metadata": {},
     "output_type": "execute_result"
    }
   ],
   "source": [
    "# number of users:\n",
    "len(engagement.subid.drop_duplicates())"
   ]
  },
  {
   "cell_type": "markdown",
   "metadata": {},
   "source": [
    "## Cust Service Reps"
   ]
  },
  {
   "cell_type": "code",
   "execution_count": 4,
   "metadata": {},
   "outputs": [
    {
     "data": {
      "text/html": [
       "<div>\n",
       "<style scoped>\n",
       "    .dataframe tbody tr th:only-of-type {\n",
       "        vertical-align: middle;\n",
       "    }\n",
       "\n",
       "    .dataframe tbody tr th {\n",
       "        vertical-align: top;\n",
       "    }\n",
       "\n",
       "    .dataframe thead th {\n",
       "        text-align: right;\n",
       "    }\n",
       "</style>\n",
       "<table border=\"1\" class=\"dataframe\">\n",
       "  <thead>\n",
       "    <tr style=\"text-align: right;\">\n",
       "      <th></th>\n",
       "      <th>customer_service_rep_id</th>\n",
       "      <th>subid</th>\n",
       "      <th>current_sub_TF</th>\n",
       "      <th>cancel_date</th>\n",
       "      <th>account_creation_date</th>\n",
       "      <th>num_trial_days</th>\n",
       "      <th>trial_completed_TF</th>\n",
       "      <th>billing_channel</th>\n",
       "      <th>revenue_net_1month</th>\n",
       "      <th>payment_period</th>\n",
       "      <th>last_payment</th>\n",
       "      <th>next_payment</th>\n",
       "      <th>renew</th>\n",
       "    </tr>\n",
       "  </thead>\n",
       "  <tbody>\n",
       "    <tr>\n",
       "      <th>4</th>\n",
       "      <td>36189811</td>\n",
       "      <td>25108574</td>\n",
       "      <td>False</td>\n",
       "      <td>NaT</td>\n",
       "      <td>2019-11-26 03:30:29</td>\n",
       "      <td>7</td>\n",
       "      <td>True</td>\n",
       "      <td>itunes</td>\n",
       "      <td>1.1377</td>\n",
       "      <td>0</td>\n",
       "      <td>2019-11-26 03:30:29</td>\n",
       "      <td>2019-11-26 03:30:29</td>\n",
       "      <td>NaN</td>\n",
       "    </tr>\n",
       "    <tr>\n",
       "      <th>5</th>\n",
       "      <td>36189811</td>\n",
       "      <td>25108574</td>\n",
       "      <td>False</td>\n",
       "      <td>NaT</td>\n",
       "      <td>2019-11-26 03:30:29</td>\n",
       "      <td>7</td>\n",
       "      <td>True</td>\n",
       "      <td>itunes</td>\n",
       "      <td>1.1377</td>\n",
       "      <td>1</td>\n",
       "      <td>2019-11-26 03:30:29</td>\n",
       "      <td>2019-12-27 03:30:29</td>\n",
       "      <td>NaN</td>\n",
       "    </tr>\n",
       "    <tr>\n",
       "      <th>6</th>\n",
       "      <td>36189811</td>\n",
       "      <td>25108574</td>\n",
       "      <td>False</td>\n",
       "      <td>NaT</td>\n",
       "      <td>2019-11-26 03:30:29</td>\n",
       "      <td>7</td>\n",
       "      <td>True</td>\n",
       "      <td>itunes</td>\n",
       "      <td>1.1377</td>\n",
       "      <td>2</td>\n",
       "      <td>2019-12-27 03:30:29</td>\n",
       "      <td>2020-01-26 03:30:29</td>\n",
       "      <td>NaN</td>\n",
       "    </tr>\n",
       "    <tr>\n",
       "      <th>7</th>\n",
       "      <td>36189811</td>\n",
       "      <td>25108574</td>\n",
       "      <td>False</td>\n",
       "      <td>NaT</td>\n",
       "      <td>2019-11-26 03:30:29</td>\n",
       "      <td>7</td>\n",
       "      <td>True</td>\n",
       "      <td>itunes</td>\n",
       "      <td>1.1377</td>\n",
       "      <td>3</td>\n",
       "      <td>2020-01-26 03:30:29</td>\n",
       "      <td>NaT</td>\n",
       "      <td>NaN</td>\n",
       "    </tr>\n",
       "    <tr>\n",
       "      <th>8</th>\n",
       "      <td>31174901</td>\n",
       "      <td>25914865</td>\n",
       "      <td>True</td>\n",
       "      <td>NaT</td>\n",
       "      <td>2020-03-19 01:20:25</td>\n",
       "      <td>14</td>\n",
       "      <td>True</td>\n",
       "      <td>itunes</td>\n",
       "      <td>1.1377</td>\n",
       "      <td>0</td>\n",
       "      <td>2020-03-19 01:20:25</td>\n",
       "      <td>2020-04-02 01:20:25</td>\n",
       "      <td>NaN</td>\n",
       "    </tr>\n",
       "  </tbody>\n",
       "</table>\n",
       "</div>"
      ],
      "text/plain": [
       "   customer_service_rep_id     subid  current_sub_TF cancel_date  \\\n",
       "4                 36189811  25108574           False         NaT   \n",
       "5                 36189811  25108574           False         NaT   \n",
       "6                 36189811  25108574           False         NaT   \n",
       "7                 36189811  25108574           False         NaT   \n",
       "8                 31174901  25914865            True         NaT   \n",
       "\n",
       "  account_creation_date  num_trial_days  trial_completed_TF billing_channel  \\\n",
       "4   2019-11-26 03:30:29               7                True          itunes   \n",
       "5   2019-11-26 03:30:29               7                True          itunes   \n",
       "6   2019-11-26 03:30:29               7                True          itunes   \n",
       "7   2019-11-26 03:30:29               7                True          itunes   \n",
       "8   2020-03-19 01:20:25              14                True          itunes   \n",
       "\n",
       "   revenue_net_1month  payment_period        last_payment        next_payment  \\\n",
       "4              1.1377               0 2019-11-26 03:30:29 2019-11-26 03:30:29   \n",
       "5              1.1377               1 2019-11-26 03:30:29 2019-12-27 03:30:29   \n",
       "6              1.1377               2 2019-12-27 03:30:29 2020-01-26 03:30:29   \n",
       "7              1.1377               3 2020-01-26 03:30:29                 NaT   \n",
       "8              1.1377               0 2020-03-19 01:20:25 2020-04-02 01:20:25   \n",
       "\n",
       "  renew  \n",
       "4   NaN  \n",
       "5   NaN  \n",
       "6   NaN  \n",
       "7   NaN  \n",
       "8   NaN  "
      ]
     },
     "execution_count": 4,
     "metadata": {},
     "output_type": "execute_result"
    }
   ],
   "source": [
    "customer_service_reps = pd.read_pickle('data/customer_service_reps')\n",
    "\n",
    "customer_service_reps.head()"
   ]
  },
  {
   "cell_type": "code",
   "execution_count": 116,
   "metadata": {
    "scrolled": true
   },
   "outputs": [
    {
     "data": {
      "text/plain": [
       "(2208643, 13)"
      ]
     },
     "execution_count": 116,
     "metadata": {},
     "output_type": "execute_result"
    }
   ],
   "source": [
    "customer_service_reps.shape"
   ]
  },
  {
   "cell_type": "code",
   "execution_count": 123,
   "metadata": {},
   "outputs": [
    {
     "data": {
      "text/plain": [
       "1369360"
      ]
     },
     "execution_count": 123,
     "metadata": {},
     "output_type": "execute_result"
    }
   ],
   "source": [
    "len(customer_service_reps.subid.drop_duplicates())"
   ]
  },
  {
   "cell_type": "code",
   "execution_count": 668,
   "metadata": {},
   "outputs": [
    {
     "data": {
      "text/plain": [
       "OTT only            1074822\n",
       "itunes               142253\n",
       "OTT + subscriber     135050\n",
       "google                17235\n",
       "Name: customer_type, dtype: int64"
      ]
     },
     "execution_count": 668,
     "metadata": {},
     "output_type": "execute_result"
    }
   ],
   "source": [
    "customer_service_reps['customer_type'] = np.where(customer_service_reps['subid'].isin(subscribers['subid']), 'OTT + subscriber',\n",
    "                                                 np.where(customer_service_reps['billing_channel'] == 'OTT', 'OTT only',\n",
    "                                                         customer_service_reps['billing_channel']))\n",
    "\n",
    "customer_service_reps[['subid', 'customer_type']].drop_duplicates().customer_type.value_counts()"
   ]
  },
  {
   "cell_type": "code",
   "execution_count": 43,
   "metadata": {},
   "outputs": [
    {
     "data": {
      "text/plain": [
       "OTT       1209872\n",
       "itunes     142253\n",
       "google      17235\n",
       "Name: billing_channel, dtype: int64"
      ]
     },
     "execution_count": 43,
     "metadata": {},
     "output_type": "execute_result"
    }
   ],
   "source": [
    "sub_billing = customer_service_reps[['subid', 'billing_channel']].drop_duplicates()\n",
    "\n",
    "sub_billing.billing_channel.value_counts()"
   ]
  },
  {
   "cell_type": "code",
   "execution_count": 693,
   "metadata": {},
   "outputs": [
    {
     "data": {
      "text/html": [
       "<div>\n",
       "<style scoped>\n",
       "    .dataframe tbody tr th:only-of-type {\n",
       "        vertical-align: middle;\n",
       "    }\n",
       "\n",
       "    .dataframe tbody tr th {\n",
       "        vertical-align: top;\n",
       "    }\n",
       "\n",
       "    .dataframe thead th {\n",
       "        text-align: right;\n",
       "    }\n",
       "</style>\n",
       "<table border=\"1\" class=\"dataframe\">\n",
       "  <thead>\n",
       "    <tr style=\"text-align: right;\">\n",
       "      <th></th>\n",
       "      <th>subid</th>\n",
       "      <th>billing_channel</th>\n",
       "      <th>current_sub_TF</th>\n",
       "      <th>paid_TF</th>\n",
       "      <th>payment_period</th>\n",
       "      <th>engagement</th>\n",
       "      <th>subscribers</th>\n",
       "      <th>cust_service</th>\n",
       "      <th>sub_type</th>\n",
       "    </tr>\n",
       "  </thead>\n",
       "  <tbody>\n",
       "    <tr>\n",
       "      <th>0</th>\n",
       "      <td>25108574</td>\n",
       "      <td>itunes</td>\n",
       "      <td>False</td>\n",
       "      <td>Null</td>\n",
       "      <td>Null</td>\n",
       "      <td>0</td>\n",
       "      <td>0</td>\n",
       "      <td>1</td>\n",
       "      <td>App only</td>\n",
       "    </tr>\n",
       "    <tr>\n",
       "      <th>1</th>\n",
       "      <td>25914865</td>\n",
       "      <td>itunes</td>\n",
       "      <td>True</td>\n",
       "      <td>Null</td>\n",
       "      <td>Null</td>\n",
       "      <td>0</td>\n",
       "      <td>0</td>\n",
       "      <td>1</td>\n",
       "      <td>App only</td>\n",
       "    </tr>\n",
       "    <tr>\n",
       "      <th>2</th>\n",
       "      <td>28778936</td>\n",
       "      <td>google</td>\n",
       "      <td>True</td>\n",
       "      <td>Null</td>\n",
       "      <td>Null</td>\n",
       "      <td>0</td>\n",
       "      <td>0</td>\n",
       "      <td>1</td>\n",
       "      <td>App only</td>\n",
       "    </tr>\n",
       "    <tr>\n",
       "      <th>3</th>\n",
       "      <td>21481314</td>\n",
       "      <td>google</td>\n",
       "      <td>True</td>\n",
       "      <td>Null</td>\n",
       "      <td>Null</td>\n",
       "      <td>0</td>\n",
       "      <td>0</td>\n",
       "      <td>1</td>\n",
       "      <td>App only</td>\n",
       "    </tr>\n",
       "    <tr>\n",
       "      <th>4</th>\n",
       "      <td>24230000</td>\n",
       "      <td>google</td>\n",
       "      <td>True</td>\n",
       "      <td>Null</td>\n",
       "      <td>Null</td>\n",
       "      <td>0</td>\n",
       "      <td>0</td>\n",
       "      <td>1</td>\n",
       "      <td>App only</td>\n",
       "    </tr>\n",
       "  </tbody>\n",
       "</table>\n",
       "</div>"
      ],
      "text/plain": [
       "      subid billing_channel current_sub_TF paid_TF payment_period  engagement  \\\n",
       "0  25108574          itunes          False    Null           Null           0   \n",
       "1  25914865          itunes           True    Null           Null           0   \n",
       "2  28778936          google           True    Null           Null           0   \n",
       "3  21481314          google           True    Null           Null           0   \n",
       "4  24230000          google           True    Null           Null           0   \n",
       "\n",
       "   subscribers  cust_service  sub_type  \n",
       "0            0             1  App only  \n",
       "1            0             1  App only  \n",
       "2            0             1  App only  \n",
       "3            0             1  App only  \n",
       "4            0             1  App only  "
      ]
     },
     "execution_count": 693,
     "metadata": {},
     "output_type": "execute_result"
    }
   ],
   "source": [
    "subs_eachtable = customer_service_reps[['subid', 'billing_channel', 'current_sub_TF']].drop_duplicates().merge(subscribers[['subid', 'paid_TF']], on ='subid', how ='outer')\n",
    "subs_eachtable = subs_eachtable.merge(engagement.groupby('subid').payment_period.agg('max').reset_index(), on ='subid', how ='outer')\n",
    "\n",
    "subs_eachtable['engagement'] = np.where(subs_eachtable['payment_period'].isna(), 0, 1)\n",
    "subs_eachtable['subscribers'] = np.where(subs_eachtable['paid_TF'].isna(), 0, 1)\n",
    "subs_eachtable['cust_service'] = np.where(subs_eachtable['billing_channel'].isna(), 0, 1)\n",
    "\n",
    "subs_eachtable = subs_eachtable.fillna('Null')\n",
    "\n",
    "subs_eachtable['sub_type'] = np.where(subs_eachtable['billing_channel'].isin(['google', 'itunes']), 'App only',\n",
    "                                     np.where(subs_eachtable['billing_channel'] == \"Null\", 'Subscriber,\\nno cust service',\n",
    "                                             np.where(subs_eachtable['subscribers'] == 0, 'OTT only',\n",
    "                                                     'OTT and\\nsubscriber')))\n",
    "\n",
    "subs_eachtable.head()"
   ]
  },
  {
   "cell_type": "code",
   "execution_count": 817,
   "metadata": {},
   "outputs": [
    {
     "data": {
      "text/html": [
       "<div>\n",
       "<style scoped>\n",
       "    .dataframe tbody tr th:only-of-type {\n",
       "        vertical-align: middle;\n",
       "    }\n",
       "\n",
       "    .dataframe tbody tr th {\n",
       "        vertical-align: top;\n",
       "    }\n",
       "\n",
       "    .dataframe thead th {\n",
       "        text-align: right;\n",
       "    }\n",
       "</style>\n",
       "<table border=\"1\" class=\"dataframe\">\n",
       "  <thead>\n",
       "    <tr style=\"text-align: right;\">\n",
       "      <th></th>\n",
       "      <th>Churned</th>\n",
       "      <th>Active</th>\n",
       "      <th>Unknown</th>\n",
       "    </tr>\n",
       "    <tr>\n",
       "      <th>sub_type</th>\n",
       "      <th></th>\n",
       "      <th></th>\n",
       "      <th></th>\n",
       "    </tr>\n",
       "  </thead>\n",
       "  <tbody>\n",
       "    <tr>\n",
       "      <th>App only</th>\n",
       "      <td>131143</td>\n",
       "      <td>28345</td>\n",
       "      <td>0</td>\n",
       "    </tr>\n",
       "    <tr>\n",
       "      <th>OTT and\\nsubscriber</th>\n",
       "      <td>102695</td>\n",
       "      <td>32355</td>\n",
       "      <td>0</td>\n",
       "    </tr>\n",
       "    <tr>\n",
       "      <th>OTT only</th>\n",
       "      <td>806211</td>\n",
       "      <td>268611</td>\n",
       "      <td>0</td>\n",
       "    </tr>\n",
       "    <tr>\n",
       "      <th>Subscriber,\\nno cust service</th>\n",
       "      <td>0</td>\n",
       "      <td>0</td>\n",
       "      <td>92578</td>\n",
       "    </tr>\n",
       "  </tbody>\n",
       "</table>\n",
       "</div>"
      ],
      "text/plain": [
       "                              Churned  Active  Unknown\n",
       "sub_type                                              \n",
       "App only                       131143   28345        0\n",
       "OTT and\\nsubscriber            102695   32355        0\n",
       "OTT only                       806211  268611        0\n",
       "Subscriber,\\nno cust service        0       0    92578"
      ]
     },
     "execution_count": 817,
     "metadata": {},
     "output_type": "execute_result"
    }
   ],
   "source": [
    "subs_typecount = subs_eachtable.pivot_table(index ='sub_type', columns = 'current_sub_TF', values ='subid', aggfunc ='count', fill_value = 0)\n",
    "\n",
    "subs_typecount.columns = ['Churned', 'Active', 'Unknown']\n",
    "#subs_typecount['Total'] = subs_typecount.sum(axis = 1)\n",
    "\n",
    "subs_typecount"
   ]
  },
  {
   "cell_type": "code",
   "execution_count": 818,
   "metadata": {},
   "outputs": [
    {
     "name": "stdout",
     "output_type": "stream",
     "text": [
      "Total customers: 1461938\n"
     ]
    }
   ],
   "source": [
    "print(\"Total customers: %d\" % subs_typecount.sum().sum())"
   ]
  },
  {
   "cell_type": "code",
   "execution_count": 725,
   "metadata": {},
   "outputs": [
    {
     "data": {
      "image/png": "[encoded data removed]",
      "text/plain": [
       "<Figure size 432x288 with 1 Axes>"
      ]
     },
     "metadata": {
      "needs_background": "light"
     },
     "output_type": "display_data"
    }
   ],
   "source": [
    "plt.bar(subs_typecount.index, subs_typecount['Churned'], label = \"Churned\", color = '#7e57c2')\n",
    "plt.bar(subs_typecount.index, subs_typecount['Active'], bottom = subs_typecount['Churned'], \n",
    "        label = \"Active\", color = '#c77025')\n",
    "plt.bar(subs_typecount.index, subs_typecount['Unknown'], label = \"Unknown\", color = '#009688')\n",
    "\n",
    "for i in range(0, len(subs_typecount)):\n",
    "    plt.text(x= subs_typecount.index[i], y = subs_typecount['Total'][i], s = subs_typecount['Total'][i],\n",
    "            verticalalignment='bottom', horizontalalignment='center')\n",
    "\n",
    "plt.legend()\n",
    "plt.ylabel('Customers')\n",
    "plt.show()"
   ]
  },
  {
   "cell_type": "code",
   "execution_count": 669,
   "metadata": {},
   "outputs": [
    {
     "data": {
      "text/html": [
       "<div>\n",
       "<style scoped>\n",
       "    .dataframe tbody tr th:only-of-type {\n",
       "        vertical-align: middle;\n",
       "    }\n",
       "\n",
       "    .dataframe tbody tr th {\n",
       "        vertical-align: top;\n",
       "    }\n",
       "\n",
       "    .dataframe thead th {\n",
       "        text-align: right;\n",
       "    }\n",
       "</style>\n",
       "<table border=\"1\" class=\"dataframe\">\n",
       "  <thead>\n",
       "    <tr style=\"text-align: right;\">\n",
       "      <th></th>\n",
       "      <th>index</th>\n",
       "      <th>sub_type</th>\n",
       "      <th>type2</th>\n",
       "    </tr>\n",
       "  </thead>\n",
       "  <tbody>\n",
       "    <tr>\n",
       "      <th>0</th>\n",
       "      <td>OTT only</td>\n",
       "      <td>1074822</td>\n",
       "      <td>0</td>\n",
       "    </tr>\n",
       "    <tr>\n",
       "      <th>1</th>\n",
       "      <td>App only</td>\n",
       "      <td>159488</td>\n",
       "      <td>0</td>\n",
       "    </tr>\n",
       "    <tr>\n",
       "      <th>2</th>\n",
       "      <td>OTT and subscriber</td>\n",
       "      <td>135050</td>\n",
       "      <td>135050</td>\n",
       "    </tr>\n",
       "    <tr>\n",
       "      <th>3</th>\n",
       "      <td>Missing customer service</td>\n",
       "      <td>92578</td>\n",
       "      <td>0</td>\n",
       "    </tr>\n",
       "  </tbody>\n",
       "</table>\n",
       "</div>"
      ],
      "text/plain": [
       "                      index  sub_type   type2\n",
       "0                  OTT only   1074822       0\n",
       "1                  App only    159488       0\n",
       "2        OTT and subscriber    135050  135050\n",
       "3  Missing customer service     92578       0"
      ]
     },
     "execution_count": 669,
     "metadata": {},
     "output_type": "execute_result"
    }
   ],
   "source": [
    "subs_typecount"
   ]
  },
  {
   "cell_type": "code",
   "execution_count": 131,
   "metadata": {},
   "outputs": [
    {
     "name": "stdout",
     "output_type": "stream",
     "text": [
      "Total ids to analyze: 135050\n"
     ]
    }
   ],
   "source": [
    "ids_analyze = subs_eachtable[subs_eachtable['sub_type'] == 'OTT and subscriber'].subid.values\n",
    "\n",
    "print(\"Total ids to analyze: %d\" % len(ids_analyze))"
   ]
  },
  {
   "cell_type": "markdown",
   "metadata": {},
   "source": [
    "## Acquisition channel\n",
    "\n",
    "* Attribution technical aligns more closely with the money that invested (no TV no radio)"
   ]
  },
  {
   "cell_type": "code",
   "execution_count": 561,
   "metadata": {},
   "outputs": [
    {
     "data": {
      "text/plain": [
       "facebook                   80251\n",
       "email                      25690\n",
       "search                     25306\n",
       "organic                    22013\n",
       "brand sem intent google    18524\n",
       "google_organic             10691\n",
       "affiliate                   9894\n",
       "email_blast                 7277\n",
       "pinterest                   6065\n",
       "referral                    5170\n",
       "Name: attribution_technical, dtype: int64"
      ]
     },
     "execution_count": 561,
     "metadata": {},
     "output_type": "execute_result"
    }
   ],
   "source": [
    "subscribers['attribution_technical'].value_counts().head(10)"
   ]
  },
  {
   "cell_type": "code",
   "execution_count": 562,
   "metadata": {},
   "outputs": [
    {
     "data": {
      "text/plain": [
       "facebook          119126\n",
       "tv                 39904\n",
       "referral           20882\n",
       "search              8492\n",
       "pinterest           7856\n",
       "other               6496\n",
       "public_radio        6219\n",
       "social_organic      3869\n",
       "youtube             3108\n",
       "podcast             2995\n",
       "Name: attribution_survey, dtype: int64"
      ]
     },
     "execution_count": 562,
     "metadata": {},
     "output_type": "execute_result"
    }
   ],
   "source": [
    "subscribers['attribution_survey'].value_counts().head(10)"
   ]
  },
  {
   "cell_type": "code",
   "execution_count": 567,
   "metadata": {},
   "outputs": [
    {
     "data": {
      "text/html": [
       "<div>\n",
       "<style scoped>\n",
       "    .dataframe tbody tr th:only-of-type {\n",
       "        vertical-align: middle;\n",
       "    }\n",
       "\n",
       "    .dataframe tbody tr th {\n",
       "        vertical-align: top;\n",
       "    }\n",
       "\n",
       "    .dataframe thead th {\n",
       "        text-align: right;\n",
       "    }\n",
       "</style>\n",
       "<table border=\"1\" class=\"dataframe\">\n",
       "  <thead>\n",
       "    <tr style=\"text-align: right;\">\n",
       "      <th></th>\n",
       "      <th>date</th>\n",
       "      <th>facebook</th>\n",
       "      <th>email</th>\n",
       "      <th>search</th>\n",
       "      <th>brand sem intent google</th>\n",
       "      <th>affiliate</th>\n",
       "      <th>email_blast</th>\n",
       "      <th>pinterest</th>\n",
       "      <th>referral</th>\n",
       "    </tr>\n",
       "  </thead>\n",
       "  <tbody>\n",
       "    <tr>\n",
       "      <th>0</th>\n",
       "      <td>2019-06</td>\n",
       "      <td>84800</td>\n",
       "      <td>75000</td>\n",
       "      <td>17300</td>\n",
       "      <td>21400</td>\n",
       "      <td>11900</td>\n",
       "      <td>10500</td>\n",
       "      <td>5900</td>\n",
       "      <td>6100</td>\n",
       "    </tr>\n",
       "    <tr>\n",
       "      <th>1</th>\n",
       "      <td>2019-07</td>\n",
       "      <td>60000</td>\n",
       "      <td>75600</td>\n",
       "      <td>17300</td>\n",
       "      <td>21300</td>\n",
       "      <td>12000</td>\n",
       "      <td>29800</td>\n",
       "      <td>6000</td>\n",
       "      <td>6600</td>\n",
       "    </tr>\n",
       "    <tr>\n",
       "      <th>2</th>\n",
       "      <td>2019-08</td>\n",
       "      <td>52300</td>\n",
       "      <td>76100</td>\n",
       "      <td>18100</td>\n",
       "      <td>21300</td>\n",
       "      <td>16300</td>\n",
       "      <td>65900</td>\n",
       "      <td>6200</td>\n",
       "      <td>6800</td>\n",
       "    </tr>\n",
       "    <tr>\n",
       "      <th>3</th>\n",
       "      <td>2019-09</td>\n",
       "      <td>49000</td>\n",
       "      <td>75800</td>\n",
       "      <td>18900</td>\n",
       "      <td>21300</td>\n",
       "      <td>16400</td>\n",
       "      <td>73700</td>\n",
       "      <td>6000</td>\n",
       "      <td>7400</td>\n",
       "    </tr>\n",
       "    <tr>\n",
       "      <th>4</th>\n",
       "      <td>2019-10</td>\n",
       "      <td>51300</td>\n",
       "      <td>76000</td>\n",
       "      <td>21000</td>\n",
       "      <td>21400</td>\n",
       "      <td>12200</td>\n",
       "      <td>32300</td>\n",
       "      <td>6700</td>\n",
       "      <td>7300</td>\n",
       "    </tr>\n",
       "  </tbody>\n",
       "</table>\n",
       "</div>"
      ],
      "text/plain": [
       "      date  facebook  email  search  brand sem intent google  affiliate  \\\n",
       "0  2019-06     84800  75000   17300                    21400      11900   \n",
       "1  2019-07     60000  75600   17300                    21300      12000   \n",
       "2  2019-08     52300  76100   18100                    21300      16300   \n",
       "3  2019-09     49000  75800   18900                    21300      16400   \n",
       "4  2019-10     51300  76000   21000                    21400      12200   \n",
       "\n",
       "   email_blast  pinterest  referral  \n",
       "0        10500       5900      6100  \n",
       "1        29800       6000      6600  \n",
       "2        65900       6200      6800  \n",
       "3        73700       6000      7400  \n",
       "4        32300       6700      7300  "
      ]
     },
     "execution_count": 567,
     "metadata": {},
     "output_type": "execute_result"
    }
   ],
   "source": [
    "spend = pd.read_csv('data/advertisingspend.csv')\n",
    "spend['date'] = pd.to_datetime(spend['date'], infer_datetime_format=True).dt.to_period('M')\n",
    "spend.head()"
   ]
  },
  {
   "cell_type": "code",
   "execution_count": 598,
   "metadata": {},
   "outputs": [
    {
     "data": {
      "text/plain": [
       "email                      760600\n",
       "facebook                   552700\n",
       "search                     232500\n",
       "email_blast                226400\n",
       "brand sem intent google    216100\n",
       "affiliate                  139500\n",
       "referral                    73400\n",
       "pinterest                   63300\n",
       "dtype: int64"
      ]
     },
     "execution_count": 598,
     "metadata": {},
     "output_type": "execute_result"
    }
   ],
   "source": [
    "sum_spend = spend.drop('date', axis = 1).sum().sort_values(ascending=False)\n",
    "sum_spend"
   ]
  },
  {
   "cell_type": "code",
   "execution_count": 732,
   "metadata": {},
   "outputs": [
    {
     "data": {
      "image/png": "[encoded data removed]",
      "text/plain": [
       "<Figure size 720x288 with 1 Axes>"
      ]
     },
     "metadata": {
      "needs_background": "light"
     },
     "output_type": "display_data"
    }
   ],
   "source": [
    "# spend total\n",
    "plt.figure(figsize = (10,4))\n",
    "plt.bar(sum_spend.index.str.replace('_', '\\n').str.replace(' ', '\\n'), sum_spend, color = '#7e57c2')\n",
    "plt.ylabel('Total Spend')\n",
    "plt.show()"
   ]
  },
  {
   "cell_type": "code",
   "execution_count": 600,
   "metadata": {},
   "outputs": [
    {
     "data": {
      "text/html": [
       "<div>\n",
       "<style scoped>\n",
       "    .dataframe tbody tr th:only-of-type {\n",
       "        vertical-align: middle;\n",
       "    }\n",
       "\n",
       "    .dataframe tbody tr th {\n",
       "        vertical-align: top;\n",
       "    }\n",
       "\n",
       "    .dataframe thead th {\n",
       "        text-align: right;\n",
       "    }\n",
       "</style>\n",
       "<table border=\"1\" class=\"dataframe\">\n",
       "  <thead>\n",
       "    <tr style=\"text-align: right;\">\n",
       "      <th></th>\n",
       "      <th>subid</th>\n",
       "      <th>account_creation_date</th>\n",
       "      <th>payment_period</th>\n",
       "      <th>attribution_technical</th>\n",
       "      <th>attribution_survey</th>\n",
       "      <th>attribution_technical2</th>\n",
       "    </tr>\n",
       "  </thead>\n",
       "  <tbody>\n",
       "    <tr>\n",
       "      <th>0</th>\n",
       "      <td>20000604</td>\n",
       "      <td>2020-02-09 13:26:49</td>\n",
       "      <td>1</td>\n",
       "      <td>facebook</td>\n",
       "      <td>facebook</td>\n",
       "      <td>facebook</td>\n",
       "    </tr>\n",
       "    <tr>\n",
       "      <th>1</th>\n",
       "      <td>20000685</td>\n",
       "      <td>2020-03-03 05:55:37</td>\n",
       "      <td>1</td>\n",
       "      <td>referral</td>\n",
       "      <td>referral</td>\n",
       "      <td>referral</td>\n",
       "    </tr>\n",
       "    <tr>\n",
       "      <th>2</th>\n",
       "      <td>20000796</td>\n",
       "      <td>2019-09-26 02:15:40</td>\n",
       "      <td>1</td>\n",
       "      <td>facebook</td>\n",
       "      <td>referral</td>\n",
       "      <td>facebook</td>\n",
       "    </tr>\n",
       "    <tr>\n",
       "      <th>3</th>\n",
       "      <td>20000809</td>\n",
       "      <td>2019-07-13 20:40:21</td>\n",
       "      <td>3</td>\n",
       "      <td>organic</td>\n",
       "      <td>facebook</td>\n",
       "      <td>organic</td>\n",
       "    </tr>\n",
       "    <tr>\n",
       "      <th>4</th>\n",
       "      <td>20001112</td>\n",
       "      <td>2019-09-14 03:49:52</td>\n",
       "      <td>1</td>\n",
       "      <td>organic</td>\n",
       "      <td>facebook</td>\n",
       "      <td>organic</td>\n",
       "    </tr>\n",
       "  </tbody>\n",
       "</table>\n",
       "</div>"
      ],
      "text/plain": [
       "      subid account_creation_date  payment_period attribution_technical  \\\n",
       "0  20000604   2020-02-09 13:26:49               1              facebook   \n",
       "1  20000685   2020-03-03 05:55:37               1              referral   \n",
       "2  20000796   2019-09-26 02:15:40               1              facebook   \n",
       "3  20000809   2019-07-13 20:40:21               3               organic   \n",
       "4  20001112   2019-09-14 03:49:52               1               organic   \n",
       "\n",
       "  attribution_survey attribution_technical2  \n",
       "0           facebook               facebook  \n",
       "1           referral               referral  \n",
       "2           referral               facebook  \n",
       "3           facebook                organic  \n",
       "4           facebook                organic  "
      ]
     },
     "execution_count": 600,
     "metadata": {},
     "output_type": "execute_result"
    }
   ],
   "source": [
    "acq_channel = df[(df['refund_after_trial_TF'] == False) & (df['payment_period'] > 0)].groupby(['subid', 'account_creation_date']).payment_period.agg('max').reset_index()\n",
    "\n",
    "acq_channel = acq_channel.merge(subscribers[['subid', 'attribution_technical', 'attribution_survey']], on = 'subid')\n",
    "\n",
    "# aligning attribution channel to spend channels\n",
    "acq_channel['attribution_technical2'] = np.where(acq_channel['attribution_technical'].isin(spend.columns), acq_channel['attribution_technical'], \n",
    "                                                 np.where(acq_channel['attribution_technical'].str.contains(\"organic\"), \"organic\", 'other'))\n",
    "\n",
    "acq_channel.head()"
   ]
  },
  {
   "cell_type": "code",
   "execution_count": 583,
   "metadata": {},
   "outputs": [
    {
     "data": {
      "text/plain": [
       "53172"
      ]
     },
     "execution_count": 583,
     "metadata": {},
     "output_type": "execute_result"
    }
   ],
   "source": [
    "len(acq_channel)"
   ]
  },
  {
   "cell_type": "code",
   "execution_count": 602,
   "metadata": {},
   "outputs": [
    {
     "data": {
      "text/plain": [
       "organic                  5902\n",
       "google_organic           3099\n",
       "facebook_organic          637\n",
       "brand sem intent bing     603\n",
       "other                     587\n",
       "discovery                 449\n",
       "internal                  412\n",
       "bing                      235\n",
       "podcast                   210\n",
       "display                   205\n",
       "bing_organic              117\n",
       "youtube                   109\n",
       "direct_mail                47\n",
       "vod                        43\n",
       "samsung                    26\n",
       "ott                        21\n",
       "appstore                   20\n",
       "quora                      14\n",
       "pinterest_organic           7\n",
       "criteo                      6\n",
       "twitter                     2\n",
       "content_greatist            2\n",
       "influencer                  2\n",
       "tv                          1\n",
       "Name: attribution_technical, dtype: int64"
      ]
     },
     "execution_count": 602,
     "metadata": {},
     "output_type": "execute_result"
    }
   ],
   "source": [
    "# which channels didn't they spend in\n",
    "acq_channel[~acq_channel['attribution_technical'].isin(spend.columns)].attribution_technical.value_counts()"
   ]
  },
  {
   "cell_type": "code",
   "execution_count": 738,
   "metadata": {},
   "outputs": [
    {
     "data": {
      "image/png": "[encoded data removed]",
      "text/plain": [
       "<Figure size 720x288 with 1 Axes>"
      ]
     },
     "metadata": {
      "needs_background": "light"
     },
     "output_type": "display_data"
    }
   ],
   "source": [
    "sum_acqchannel = acq_channel.attribution_technical2.value_counts()\n",
    "sum_acqchannel2 = np.where(sum_acqchannel.index.isin(spend.columns), 0, sum_acqchannel)\n",
    "\n",
    "plt.figure(figsize = (10,4))\n",
    "plt.bar(sum_acqchannel.index.str.replace('_', '\\n').str.replace(' ', '\\n'),sum_acqchannel, \n",
    "        color = '#7e57c2', label = 'Spend Accounted')\n",
    "plt.bar(sum_acqchannel.index.str.replace('_', '\\n').str.replace(' ', '\\n'),sum_acqchannel2, \n",
    "        color = '#c77025', label = 'No Spend')\n",
    "plt.legend()\n",
    "plt.ylabel('Customers')\n",
    "plt.show()"
   ]
  },
  {
   "cell_type": "code",
   "execution_count": 589,
   "metadata": {},
   "outputs": [
    {
     "data": {
      "text/plain": [
       "facebook          26647\n",
       "tv                 9123\n",
       "referral           6909\n",
       "public_radio       2059\n",
       "pinterest          1623\n",
       "search             1536\n",
       "other              1289\n",
       "social_organic      798\n",
       "podcast             737\n",
       "youtube             421\n",
       "Name: attribution_survey, dtype: int64"
      ]
     },
     "execution_count": 589,
     "metadata": {},
     "output_type": "execute_result"
    }
   ],
   "source": [
    "acq_channel.attribution_survey.value_counts().head(10)\n",
    "# survey ads tv and radio"
   ]
  },
  {
   "cell_type": "code",
   "execution_count": 763,
   "metadata": {},
   "outputs": [],
   "source": [
    "acq_channel['month'] = acq_channel['account_creation_date'].dt.to_period('M')\n",
    "\n",
    "acq_month = acq_channel.groupby('month').subid.agg('count')"
   ]
  },
  {
   "cell_type": "code",
   "execution_count": 773,
   "metadata": {},
   "outputs": [
    {
     "data": {
      "text/html": [
       "<div>\n",
       "<style scoped>\n",
       "    .dataframe tbody tr th:only-of-type {\n",
       "        vertical-align: middle;\n",
       "    }\n",
       "\n",
       "    .dataframe tbody tr th {\n",
       "        vertical-align: top;\n",
       "    }\n",
       "\n",
       "    .dataframe thead th {\n",
       "        text-align: right;\n",
       "    }\n",
       "</style>\n",
       "<table border=\"1\" class=\"dataframe\">\n",
       "  <thead>\n",
       "    <tr style=\"text-align: right;\">\n",
       "      <th>attribution_technical2</th>\n",
       "      <th>affiliate</th>\n",
       "      <th>brand sem intent google</th>\n",
       "      <th>email</th>\n",
       "      <th>email_blast</th>\n",
       "      <th>facebook</th>\n",
       "      <th>organic</th>\n",
       "      <th>other</th>\n",
       "      <th>pinterest</th>\n",
       "      <th>referral</th>\n",
       "      <th>search</th>\n",
       "    </tr>\n",
       "    <tr>\n",
       "      <th>month</th>\n",
       "      <th></th>\n",
       "      <th></th>\n",
       "      <th></th>\n",
       "      <th></th>\n",
       "      <th></th>\n",
       "      <th></th>\n",
       "      <th></th>\n",
       "      <th></th>\n",
       "      <th></th>\n",
       "      <th></th>\n",
       "    </tr>\n",
       "  </thead>\n",
       "  <tbody>\n",
       "    <tr>\n",
       "      <th>2019-06</th>\n",
       "      <td>36</td>\n",
       "      <td>82</td>\n",
       "      <td>125</td>\n",
       "      <td>55</td>\n",
       "      <td>414</td>\n",
       "      <td>164</td>\n",
       "      <td>39</td>\n",
       "      <td>10</td>\n",
       "      <td>14</td>\n",
       "      <td>28</td>\n",
       "    </tr>\n",
       "    <tr>\n",
       "      <th>2019-07</th>\n",
       "      <td>317</td>\n",
       "      <td>680</td>\n",
       "      <td>1302</td>\n",
       "      <td>711</td>\n",
       "      <td>2798</td>\n",
       "      <td>1497</td>\n",
       "      <td>371</td>\n",
       "      <td>175</td>\n",
       "      <td>240</td>\n",
       "      <td>362</td>\n",
       "    </tr>\n",
       "    <tr>\n",
       "      <th>2019-08</th>\n",
       "      <td>207</td>\n",
       "      <td>450</td>\n",
       "      <td>730</td>\n",
       "      <td>197</td>\n",
       "      <td>1732</td>\n",
       "      <td>627</td>\n",
       "      <td>202</td>\n",
       "      <td>108</td>\n",
       "      <td>158</td>\n",
       "      <td>383</td>\n",
       "    </tr>\n",
       "    <tr>\n",
       "      <th>2019-09</th>\n",
       "      <td>242</td>\n",
       "      <td>427</td>\n",
       "      <td>600</td>\n",
       "      <td>557</td>\n",
       "      <td>1252</td>\n",
       "      <td>843</td>\n",
       "      <td>326</td>\n",
       "      <td>104</td>\n",
       "      <td>227</td>\n",
       "      <td>377</td>\n",
       "    </tr>\n",
       "    <tr>\n",
       "      <th>2019-10</th>\n",
       "      <td>65</td>\n",
       "      <td>374</td>\n",
       "      <td>488</td>\n",
       "      <td>273</td>\n",
       "      <td>1422</td>\n",
       "      <td>697</td>\n",
       "      <td>218</td>\n",
       "      <td>91</td>\n",
       "      <td>157</td>\n",
       "      <td>380</td>\n",
       "    </tr>\n",
       "    <tr>\n",
       "      <th>2019-11</th>\n",
       "      <td>85</td>\n",
       "      <td>697</td>\n",
       "      <td>826</td>\n",
       "      <td>264</td>\n",
       "      <td>3190</td>\n",
       "      <td>1098</td>\n",
       "      <td>402</td>\n",
       "      <td>150</td>\n",
       "      <td>263</td>\n",
       "      <td>655</td>\n",
       "    </tr>\n",
       "    <tr>\n",
       "      <th>2019-12</th>\n",
       "      <td>98</td>\n",
       "      <td>524</td>\n",
       "      <td>640</td>\n",
       "      <td>82</td>\n",
       "      <td>1600</td>\n",
       "      <td>796</td>\n",
       "      <td>247</td>\n",
       "      <td>126</td>\n",
       "      <td>208</td>\n",
       "      <td>639</td>\n",
       "    </tr>\n",
       "    <tr>\n",
       "      <th>2020-01</th>\n",
       "      <td>114</td>\n",
       "      <td>409</td>\n",
       "      <td>402</td>\n",
       "      <td>13</td>\n",
       "      <td>722</td>\n",
       "      <td>728</td>\n",
       "      <td>305</td>\n",
       "      <td>106</td>\n",
       "      <td>171</td>\n",
       "      <td>491</td>\n",
       "    </tr>\n",
       "    <tr>\n",
       "      <th>2020-02</th>\n",
       "      <td>256</td>\n",
       "      <td>620</td>\n",
       "      <td>750</td>\n",
       "      <td>25</td>\n",
       "      <td>1762</td>\n",
       "      <td>1452</td>\n",
       "      <td>502</td>\n",
       "      <td>166</td>\n",
       "      <td>227</td>\n",
       "      <td>929</td>\n",
       "    </tr>\n",
       "    <tr>\n",
       "      <th>2020-03</th>\n",
       "      <td>358</td>\n",
       "      <td>500</td>\n",
       "      <td>967</td>\n",
       "      <td>21</td>\n",
       "      <td>1838</td>\n",
       "      <td>1860</td>\n",
       "      <td>382</td>\n",
       "      <td>123</td>\n",
       "      <td>270</td>\n",
       "      <td>779</td>\n",
       "    </tr>\n",
       "  </tbody>\n",
       "</table>\n",
       "</div>"
      ],
      "text/plain": [
       "attribution_technical2  affiliate  brand sem intent google  email  \\\n",
       "month                                                               \n",
       "2019-06                        36                       82    125   \n",
       "2019-07                       317                      680   1302   \n",
       "2019-08                       207                      450    730   \n",
       "2019-09                       242                      427    600   \n",
       "2019-10                        65                      374    488   \n",
       "2019-11                        85                      697    826   \n",
       "2019-12                        98                      524    640   \n",
       "2020-01                       114                      409    402   \n",
       "2020-02                       256                      620    750   \n",
       "2020-03                       358                      500    967   \n",
       "\n",
       "attribution_technical2  email_blast  facebook  organic  other  pinterest  \\\n",
       "month                                                                      \n",
       "2019-06                          55       414      164     39         10   \n",
       "2019-07                         711      2798     1497    371        175   \n",
       "2019-08                         197      1732      627    202        108   \n",
       "2019-09                         557      1252      843    326        104   \n",
       "2019-10                         273      1422      697    218         91   \n",
       "2019-11                         264      3190     1098    402        150   \n",
       "2019-12                          82      1600      796    247        126   \n",
       "2020-01                          13       722      728    305        106   \n",
       "2020-02                          25      1762     1452    502        166   \n",
       "2020-03                          21      1838     1860    382        123   \n",
       "\n",
       "attribution_technical2  referral  search  \n",
       "month                                     \n",
       "2019-06                       14      28  \n",
       "2019-07                      240     362  \n",
       "2019-08                      158     383  \n",
       "2019-09                      227     377  \n",
       "2019-10                      157     380  \n",
       "2019-11                      263     655  \n",
       "2019-12                      208     639  \n",
       "2020-01                      171     491  \n",
       "2020-02                      227     929  \n",
       "2020-03                      270     779  "
      ]
     },
     "execution_count": 773,
     "metadata": {},
     "output_type": "execute_result"
    }
   ],
   "source": [
    "acq_channel.pivot_table(index = 'month', columns ='attribution_technical2', values = 'subid', aggfunc ='count')"
   ]
  },
  {
   "cell_type": "code",
   "execution_count": 776,
   "metadata": {},
   "outputs": [
    {
     "data": {
      "image/png": "[encoded data removed]",
      "text/plain": [
       "<Figure size 720x288 with 1 Axes>"
      ]
     },
     "metadata": {
      "needs_background": "light"
     },
     "output_type": "display_data"
    }
   ],
   "source": [
    "# monthly acquisition\n",
    "plt.figure(figsize = (10,4))\n",
    "plt.plot(acq_month.index.astype(str), acq_month, color = '#7e57c2')\n",
    "plt.ylabel('Customers')\n",
    "plt.show()"
   ]
  },
  {
   "cell_type": "code",
   "execution_count": 778,
   "metadata": {},
   "outputs": [
    {
     "data": {
      "image/png": "[encoded data removed]",
      "text/plain": [
       "<Figure size 720x288 with 1 Axes>"
      ]
     },
     "metadata": {
      "needs_background": "light"
     },
     "output_type": "display_data"
    }
   ],
   "source": [
    "# monthly spend\n",
    "plt.figure(figsize = (10,4))\n",
    "plt.plot(acq_month.index.astype(str), spend.iloc[:,1:].sum(axis = 1),\n",
    "        color = '#c77025')\n",
    "plt.ylabel('Advertising Spend')\n",
    "plt.show()"
   ]
  },
  {
   "cell_type": "markdown",
   "metadata": {},
   "source": [
    "## Summary for Final Presentation"
   ]
  },
  {
   "cell_type": "code",
   "execution_count": 831,
   "metadata": {},
   "outputs": [],
   "source": [
    "def print_summary(df, date_col):\n",
    "    print('Total Rows: %d' % len(df))\n",
    "    print('Unique Customers: %d' % len(df.subid.drop_duplicates()))\n",
    "    print('Min date: %s' % str(min(df[date_col])))\n",
    "    print('Max date: %s' % str(max(df[date_col])))"
   ]
  },
  {
   "cell_type": "code",
   "execution_count": 832,
   "metadata": {},
   "outputs": [
    {
     "name": "stdout",
     "output_type": "stream",
     "text": [
      "Customer Service Reps\n",
      "Total Rows: 2201474\n",
      "Unique Customers: 1369360\n",
      "Min date: 2019-06-30 00:00:04\n",
      "Max date: 2020-03-28 00:00:00\n"
     ]
    }
   ],
   "source": [
    "print('Customer Service Reps')\n",
    "print_summary(customer_service_reps, 'account_creation_date')"
   ]
  },
  {
   "cell_type": "code",
   "execution_count": 834,
   "metadata": {},
   "outputs": [
    {
     "name": "stdout",
     "output_type": "stream",
     "text": [
      "Subscribers\n",
      "Total Rows: 227628\n",
      "Unique Customers: 227628\n",
      "Min date: 2019-06-30 00:00:19\n",
      "Max date: 2020-03-27 23:59:06\n"
     ]
    }
   ],
   "source": [
    "print('Subscribers')\n",
    "print_summary(subscribers, 'account_creation_date')"
   ]
  },
  {
   "cell_type": "code",
   "execution_count": 836,
   "metadata": {},
   "outputs": [
    {
     "name": "stdout",
     "output_type": "stream",
     "text": [
      "Engagement\n",
      "Total Rows: 2585724\n",
      "Unique Customers: 135019\n",
      "Min date: 2019-06-30 00:00:00\n",
      "Max date: 2020-04-25 00:00:00\n"
     ]
    }
   ],
   "source": [
    "print('Engagement')\n",
    "print_summary(engagement, 'date')"
   ]
  }
 ],
 "metadata": {
  "kernelspec": {
   "display_name": "Python 3",
   "language": "python",
   "name": "python3"
  },
  "language_info": {
   "codemirror_mode": {
    "name": "ipython",
    "version": 3
   },
   "file_extension": ".py",
   "mimetype": "text/x-python",
   "name": "python",
   "nbconvert_exporter": "python",
   "pygments_lexer": "ipython3",
   "version": "3.7.3"
  }
 },
 "nbformat": 4,
 "nbformat_minor": 2
}
