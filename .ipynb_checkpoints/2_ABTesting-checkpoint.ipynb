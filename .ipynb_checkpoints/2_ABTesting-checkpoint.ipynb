{
 "cells": [
  {
   "cell_type": "code",
   "execution_count": 1,
   "metadata": {},
   "outputs": [],
   "source": [
    "# read in libraries\n",
    "import matplotlib.pyplot as plt\n",
    "import pandas as pd\n",
    "import numpy as np\n",
    "from scipy import stats as st\n",
    "import math"
   ]
  },
  {
   "cell_type": "code",
   "execution_count": 2,
   "metadata": {},
   "outputs": [],
   "source": [
    "# read in data\n",
    "subscribers = pd.read_pickle('data/subscribers')\n",
    "customer_service_reps = pd.read_pickle('data/customer_service_reps')\n",
    "\n",
    "spend = pd.read_csv('data/advertisingspend.csv')\n",
    "spend['month'] = pd.to_datetime(spend['date'], infer_datetime_format=True).dt.to_period('M')\n",
    "spend = spend.drop('date', axis = 1)\n",
    "\n",
    "customer_service_reps['month'] = customer_service_reps['account_creation_date'].dt.to_period('M')\n",
    "\n",
    "subscribers['month'] = subscribers['account_creation_date'].dt.to_period('M')\n",
    "\n",
    "# conversion defined as customer who made past trial, didn't cancel after trial, and had revenue > 1\n",
    "subscribers['conversion'] = np.where((subscribers['cancel_before_trial_end'] == False) | (subscribers['revenue_net'] < 1) | (subscribers['refund_after_trial_TF'] == True),\n",
    "                                    False, True)"
   ]
  },
  {
   "cell_type": "code",
   "execution_count": 11,
   "metadata": {},
   "outputs": [
    {
     "name": "stdout",
     "output_type": "stream",
     "text": [
      "z_alpha2: 1.64\n",
      "z_beta: 0.84\n"
     ]
    }
   ],
   "source": [
    "# confidence level 90%\n",
    "# power 80%\n",
    "alpha = 0.1\n",
    "z_alpha = st.norm.ppf(1-(alpha/2))\n",
    "print(\"z_alpha2: %.2f\" % z_alpha)\n",
    "\n",
    "beta = 1-0.8\n",
    "z_beta = st.norm.ppf(1-beta)\n",
    "print(\"z_beta: %.2f\" % z_beta)\n",
    "\n",
    "def n_optimal(p0 = p0, p1 = p1):\n",
    "    p_hat = (p0 + p1) / 2\n",
    "    delta = abs(p0 - p1)\n",
    "    n_opt = ((z_alpha*math.sqrt(2*p_hat*(1-p_hat)) + z_beta * math.sqrt(p0*(1-p0) + p1 *(1-p1)))**2 ) / delta**2\n",
    "    return n_opt"
   ]
  },
  {
   "cell_type": "markdown",
   "metadata": {},
   "source": [
    "## Test plans\n",
    "* Only do November because high was only offered this month\n",
    "* Use one sample t-test, with base plan being population conversion rate"
   ]
  },
  {
   "cell_type": "code",
   "execution_count": 33,
   "metadata": {},
   "outputs": [],
   "source": [
    "# plans I'm interested in\n",
    "plan_0 = 'base_uae_14_day_trial'\n",
    "plan_1 = 'high_uae_14_day_trial'"
   ]
  },
  {
   "cell_type": "code",
   "execution_count": 26,
   "metadata": {},
   "outputs": [],
   "source": [
    "# filter subscribers to the plans and month I'm interested in\n",
    "ab_basehigh = subscribers[(subscribers['plan_type'].isin([plan_0,plan_1])) & (subscribers['month'] =='2019-11')][['subid', 'plan_type', 'discount_price', 'conversion']]"
   ]
  },
  {
   "cell_type": "code",
   "execution_count": 34,
   "metadata": {},
   "outputs": [
    {
     "data": {
      "text/html": [
       "<div>\n",
       "<style scoped>\n",
       "    .dataframe tbody tr th:only-of-type {\n",
       "        vertical-align: middle;\n",
       "    }\n",
       "\n",
       "    .dataframe tbody tr th {\n",
       "        vertical-align: top;\n",
       "    }\n",
       "\n",
       "    .dataframe thead th {\n",
       "        text-align: right;\n",
       "    }\n",
       "</style>\n",
       "<table border=\"1\" class=\"dataframe\">\n",
       "  <thead>\n",
       "    <tr style=\"text-align: right;\">\n",
       "      <th></th>\n",
       "      <th>plan_type</th>\n",
       "      <th>count</th>\n",
       "      <th>sum</th>\n",
       "      <th>conversion</th>\n",
       "    </tr>\n",
       "  </thead>\n",
       "  <tbody>\n",
       "    <tr>\n",
       "      <th>0</th>\n",
       "      <td>base_uae_14_day_trial</td>\n",
       "      <td>26493</td>\n",
       "      <td>9774.0</td>\n",
       "      <td>0.368928</td>\n",
       "    </tr>\n",
       "    <tr>\n",
       "      <th>1</th>\n",
       "      <td>high_uae_14_day_trial</td>\n",
       "      <td>325</td>\n",
       "      <td>96.0</td>\n",
       "      <td>0.295385</td>\n",
       "    </tr>\n",
       "  </tbody>\n",
       "</table>\n",
       "</div>"
      ],
      "text/plain": [
       "               plan_type  count     sum  conversion\n",
       "0  base_uae_14_day_trial  26493  9774.0    0.368928\n",
       "1  high_uae_14_day_trial    325    96.0    0.295385"
      ]
     },
     "execution_count": 34,
     "metadata": {},
     "output_type": "execute_result"
    }
   ],
   "source": [
    "# summary count\n",
    "ab_basehigh_count = ab_basehigh.groupby(['plan_type'])['conversion'].agg(['count','sum']).reset_index()\n",
    "ab_basehigh_count['conversion'] = ab_basehigh_count['sum'] / ab_basehigh_count['count']\n",
    "\n",
    "ab_basehigh_count"
   ]
  },
  {
   "cell_type": "code",
   "execution_count": 31,
   "metadata": {},
   "outputs": [
    {
     "data": {
      "text/plain": [
       "plan_type\n",
       "base_uae_14_day_trial    4.5141\n",
       "high_uae_14_day_trial    5.0279\n",
       "Name: discount_price, dtype: float64"
      ]
     },
     "execution_count": 31,
     "metadata": {},
     "output_type": "execute_result"
    }
   ],
   "source": [
    "ab_basehigh.groupby('plan_type').discount_price.mean()"
   ]
  },
  {
   "cell_type": "code",
   "execution_count": 72,
   "metadata": {},
   "outputs": [
    {
     "name": "stdout",
     "output_type": "stream",
     "text": [
      "p0: 0.37\n",
      "p1: 0.30\n"
     ]
    }
   ],
   "source": [
    "# conversion rate of 2 plans\n",
    "p0 = ab_basehigh_count.loc[0,'conversion']\n",
    "p1 = ab_basehigh_count.loc[1,'conversion']\n",
    "\n",
    "print(\"p0: %.2f\" % p0)\n",
    "print(\"p1: %.2f\" % p1)"
   ]
  },
  {
   "cell_type": "code",
   "execution_count": 74,
   "metadata": {},
   "outputs": [
    {
     "name": "stdout",
     "output_type": "stream",
     "text": [
      "Optimal sample size: 506.10\n"
     ]
    }
   ],
   "source": [
    "# calculating optimal sample size\n",
    "n_opt = n_optimal(p0, p1)\n",
    "\n",
    "print('Optimal sample size: %.2f' % n_opt)"
   ]
  },
  {
   "cell_type": "code",
   "execution_count": 38,
   "metadata": {},
   "outputs": [
    {
     "name": "stdout",
     "output_type": "stream",
     "text": [
      "z-score: -2.75\n"
     ]
    }
   ],
   "source": [
    "n = ab_basehigh_count.loc[1,'count']\n",
    "z = (p1 - p0) / math.sqrt( (p0*(1-p0)) / n )\n",
    "print(\"z-score: %.2f\" % z)"
   ]
  },
  {
   "cell_type": "markdown",
   "metadata": {},
   "source": [
    "Reject Null hypothesis. Conversion rate is worse when offering the higher plan. Do not recommend increasing price.\n",
    "\n",
    "However, the sample size is less than the optimal (325 vs 405)."
   ]
  },
  {
   "cell_type": "markdown",
   "metadata": {},
   "source": [
    "## Test trial days\n",
    "* iTunes\n",
    "* no record of customers requesting refund after trial, so need to assume this is the same across both groups\n",
    "* only consider Nov and Dec because there was a high number of both 7 and 14 day trial. Before October, it was mostly 7 days. After, it was mostly 14 days.\n",
    "* Assume no difference between these 2 months (their conversion rates look the same)\n",
    "* 2 sample test because sample sizes are pretty similar"
   ]
  },
  {
   "cell_type": "code",
   "execution_count": 7,
   "metadata": {},
   "outputs": [
    {
     "data": {
      "text/html": [
       "<div>\n",
       "<style scoped>\n",
       "    .dataframe tbody tr th:only-of-type {\n",
       "        vertical-align: middle;\n",
       "    }\n",
       "\n",
       "    .dataframe tbody tr th {\n",
       "        vertical-align: top;\n",
       "    }\n",
       "\n",
       "    .dataframe thead th {\n",
       "        text-align: right;\n",
       "    }\n",
       "</style>\n",
       "<table border=\"1\" class=\"dataframe\">\n",
       "  <thead>\n",
       "    <tr style=\"text-align: right;\">\n",
       "      <th></th>\n",
       "      <th>subid</th>\n",
       "      <th>month</th>\n",
       "      <th>num_trial_days</th>\n",
       "      <th>revenue_net_1month</th>\n",
       "      <th>payment_period</th>\n",
       "      <th>conversion</th>\n",
       "    </tr>\n",
       "  </thead>\n",
       "  <tbody>\n",
       "    <tr>\n",
       "      <th>2</th>\n",
       "      <td>20000216</td>\n",
       "      <td>2019-12</td>\n",
       "      <td>7</td>\n",
       "      <td>0.0000</td>\n",
       "      <td>0</td>\n",
       "      <td>False</td>\n",
       "    </tr>\n",
       "    <tr>\n",
       "      <th>25</th>\n",
       "      <td>20001708</td>\n",
       "      <td>2019-12</td>\n",
       "      <td>7</td>\n",
       "      <td>0.0000</td>\n",
       "      <td>0</td>\n",
       "      <td>False</td>\n",
       "    </tr>\n",
       "    <tr>\n",
       "      <th>27</th>\n",
       "      <td>20001793</td>\n",
       "      <td>2019-12</td>\n",
       "      <td>14</td>\n",
       "      <td>0.0000</td>\n",
       "      <td>0</td>\n",
       "      <td>False</td>\n",
       "    </tr>\n",
       "    <tr>\n",
       "      <th>30</th>\n",
       "      <td>20002078</td>\n",
       "      <td>2019-12</td>\n",
       "      <td>7</td>\n",
       "      <td>1.1377</td>\n",
       "      <td>2</td>\n",
       "      <td>True</td>\n",
       "    </tr>\n",
       "    <tr>\n",
       "      <th>31</th>\n",
       "      <td>20002156</td>\n",
       "      <td>2019-12</td>\n",
       "      <td>7</td>\n",
       "      <td>1.1377</td>\n",
       "      <td>2</td>\n",
       "      <td>True</td>\n",
       "    </tr>\n",
       "  </tbody>\n",
       "</table>\n",
       "</div>"
      ],
      "text/plain": [
       "       subid    month  num_trial_days  revenue_net_1month  payment_period  \\\n",
       "2   20000216  2019-12               7              0.0000               0   \n",
       "25  20001708  2019-12               7              0.0000               0   \n",
       "27  20001793  2019-12              14              0.0000               0   \n",
       "30  20002078  2019-12               7              1.1377               2   \n",
       "31  20002156  2019-12               7              1.1377               2   \n",
       "\n",
       "    conversion  \n",
       "2        False  \n",
       "25       False  \n",
       "27       False  \n",
       "30        True  \n",
       "31        True  "
      ]
     },
     "execution_count": 7,
     "metadata": {},
     "output_type": "execute_result"
    }
   ],
   "source": [
    "ab_trial = customer_service_reps[customer_service_reps.billing_channel == 'itunes'].groupby(['subid','month', 'num_trial_days', 'revenue_net_1month']).payment_period.max().reset_index()\n",
    "\n",
    "# convert if past 0 and has some revenue\n",
    "ab_trial['conversion'] = np.where((ab_trial['payment_period'] > 0) & (ab_trial['revenue_net_1month'] > 0), True, False)\n",
    "\n",
    "#filter to october and november\n",
    "ab_trial = ab_trial[(ab_trial['month'] == '2019-12')]\n",
    "\n",
    "#filter out 0 days\n",
    "ab_trial = ab_trial[ab_trial['num_trial_days'] != 0]\n",
    "\n",
    "ab_trial.head()"
   ]
  },
  {
   "cell_type": "code",
   "execution_count": 12,
   "metadata": {},
   "outputs": [
    {
     "data": {
      "text/html": [
       "<div>\n",
       "<style scoped>\n",
       "    .dataframe tbody tr th:only-of-type {\n",
       "        vertical-align: middle;\n",
       "    }\n",
       "\n",
       "    .dataframe tbody tr th {\n",
       "        vertical-align: top;\n",
       "    }\n",
       "\n",
       "    .dataframe thead th {\n",
       "        text-align: right;\n",
       "    }\n",
       "</style>\n",
       "<table border=\"1\" class=\"dataframe\">\n",
       "  <thead>\n",
       "    <tr style=\"text-align: right;\">\n",
       "      <th></th>\n",
       "      <th>num_trial_days</th>\n",
       "      <th>count</th>\n",
       "      <th>sum</th>\n",
       "      <th>conversion</th>\n",
       "    </tr>\n",
       "  </thead>\n",
       "  <tbody>\n",
       "    <tr>\n",
       "      <th>0</th>\n",
       "      <td>7</td>\n",
       "      <td>9850</td>\n",
       "      <td>5627.0</td>\n",
       "      <td>0.571269</td>\n",
       "    </tr>\n",
       "    <tr>\n",
       "      <th>1</th>\n",
       "      <td>14</td>\n",
       "      <td>5803</td>\n",
       "      <td>2519.0</td>\n",
       "      <td>0.434086</td>\n",
       "    </tr>\n",
       "  </tbody>\n",
       "</table>\n",
       "</div>"
      ],
      "text/plain": [
       "   num_trial_days  count     sum  conversion\n",
       "0               7   9850  5627.0    0.571269\n",
       "1              14   5803  2519.0    0.434086"
      ]
     },
     "execution_count": 12,
     "metadata": {},
     "output_type": "execute_result"
    }
   ],
   "source": [
    "ab_trial_count = ab_trial.groupby(['num_trial_days']).conversion.agg(['count','sum']).reset_index()\n",
    "ab_trial_count['conversion'] = ab_trial_count['sum'] / ab_trial_count['count']\n",
    "ab_trial_count"
   ]
  },
  {
   "cell_type": "code",
   "execution_count": 13,
   "metadata": {},
   "outputs": [
    {
     "name": "stdout",
     "output_type": "stream",
     "text": [
      "0.57\n",
      "0.43\n",
      "9850\n",
      "5803\n"
     ]
    }
   ],
   "source": [
    "p0 = ab_trial_count.loc[0,'conversion']\n",
    "p1 = ab_trial_count.loc[1,'conversion']\n",
    "\n",
    "n0 = ab_trial_count.loc[0,'count']\n",
    "n1 = ab_trial_count.loc[1,'count']\n",
    "\n",
    "print(round(p0,2))\n",
    "print(round(p1,2))\n",
    "print(n0)\n",
    "print(n1)"
   ]
  },
  {
   "cell_type": "code",
   "execution_count": 14,
   "metadata": {},
   "outputs": [
    {
     "data": {
      "text/plain": [
       "163.2073161866709"
      ]
     },
     "execution_count": 14,
     "metadata": {},
     "output_type": "execute_result"
    }
   ],
   "source": [
    "#calculate optimal sample size\n",
    "n_optimal(p0, p1)"
   ]
  },
  {
   "cell_type": "code",
   "execution_count": 15,
   "metadata": {},
   "outputs": [
    {
     "name": "stdout",
     "output_type": "stream",
     "text": [
      "z-score: 16.58\n"
     ]
    }
   ],
   "source": [
    "# calculate 2 sample z stat\n",
    "p_hat = (p0+p1)/2\n",
    "\n",
    "z_trial = (p0 - p1) / math.sqrt(p_hat*(1-p_hat) * ((1/n0) + (1/n1)) )\n",
    "print(\"z-score: %.2f\" % z_trial)"
   ]
  },
  {
   "cell_type": "markdown",
   "metadata": {},
   "source": [
    "Reject Null hypothesis. Sample size is big enough."
   ]
  }
 ],
 "metadata": {
  "kernelspec": {
   "display_name": "Python 3",
   "language": "python",
   "name": "python3"
  },
  "language_info": {
   "codemirror_mode": {
    "name": "ipython",
    "version": 3
   },
   "file_extension": ".py",
   "mimetype": "text/x-python",
   "name": "python",
   "nbconvert_exporter": "python",
   "pygments_lexer": "ipython3",
   "version": "3.7.3"
  }
 },
 "nbformat": 4,
 "nbformat_minor": 2
}
